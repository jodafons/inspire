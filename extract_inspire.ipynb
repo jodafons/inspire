{
 "cells": [
  {
   "cell_type": "code",
   "execution_count": 1,
   "id": "231a235d-195b-46df-866b-4256bad7d486",
   "metadata": {
    "tags": []
   },
   "outputs": [],
   "source": [
    "\n",
    "from inspire.reader import bibtex_extractor\n",
    "\n",
    "\n",
    "# From 2017-2020\n",
    "# https://sucupira.capes.gov.br/sucupira/public/consultas/coleta/veiculoPublicacaoQualis/listaConsultaGeralPeriodicos.jsf\n",
    "qualis = {\n",
    "            #'Phys. Rev. D'    : ('PHYSICAL REVIEW D (PARTICLES, FIELDS, GRAVITATION AND COSMOLOGY)', 'A2'),\n",
    "            #'Phys. Lett. B'   : ('MODERN PHYSICS LETTERS B', 'B1'), # not allow\n",
    "            'Eur. Phys. J. C' : ('EUROPEAN PHYSICAL JOURNAL C. PARTICLES AND FIELDS', 'A2'),\n",
    "            'Phys. Rev. Lett.': ('PHYSICAL REVIEW LETTERS', 'A1'), # ok\n",
    "            'Phys. Rev. C'    : ('PHYSICAL REVIEW C', 'A1'), # ok\n",
    "            'Nature Phys.'    : ('NATURE PHYSICS (PRINT)', 'A1'), # ok\n",
    "            'JHEP'            : ('Journal of High Energy Physics', 'A1' ), # ok\n",
    "            'JINST'           : ('Journal of Instrumentation', 'A3'), # ok\n",
    "            #'PoS'             : ('Proceeding of science', '0'), # not allow\n",
    "    \n",
    "    \n",
    "            \n",
    "        }"
   ]
  },
  {
   "cell_type": "code",
   "execution_count": 2,
   "id": "d053de19-c975-49d5-a8a4-a7b989b1a87b",
   "metadata": {
    "tags": []
   },
   "outputs": [
    {
     "name": "stderr",
     "output_type": "stream",
     "text": [
      "\u001b[32m2023-09-20 07:46:38.142\u001b[0m | \u001b[1mINFO    \u001b[0m | \u001b[36minspire.reader\u001b[0m:\u001b[36m__init__\u001b[0m:\u001b[36m18\u001b[0m - \u001b[1mReading inspire bibtex from data/INSPIRE_2023_09_19.bib\u001b[0m\n",
      "\u001b[32m2023-09-20 07:46:39.300\u001b[0m | \u001b[1mINFO    \u001b[0m | \u001b[36minspire.reader\u001b[0m:\u001b[36mextract\u001b[0m:\u001b[36m24\u001b[0m - \u001b[1mExtracting all information from bibtex file...\u001b[0m\n"
     ]
    }
   ],
   "source": [
    "bibtex = bibtex_extractor('data/INSPIRE_2023_09_19.bib', \"Fonseca\", 'atlas')\n",
    "bibtex.extract()"
   ]
  },
  {
   "cell_type": "code",
   "execution_count": 3,
   "id": "94596a6f-0c4d-491a-9080-46c71dd59935",
   "metadata": {
    "tags": []
   },
   "outputs": [
    {
     "data": {
      "text/html": [
       "<div>\n",
       "<style scoped>\n",
       "    .dataframe tbody tr th:only-of-type {\n",
       "        vertical-align: middle;\n",
       "    }\n",
       "\n",
       "    .dataframe tbody tr th {\n",
       "        vertical-align: top;\n",
       "    }\n",
       "\n",
       "    .dataframe thead th {\n",
       "        text-align: right;\n",
       "    }\n",
       "</style>\n",
       "<table border=\"1\" class=\"dataframe\">\n",
       "  <thead>\n",
       "    <tr style=\"text-align: right;\">\n",
       "      <th></th>\n",
       "      <th>year</th>\n",
       "      <th>month</th>\n",
       "      <th>reportnumber</th>\n",
       "      <th>primaryclass</th>\n",
       "      <th>archiveprefix</th>\n",
       "      <th>eprint</th>\n",
       "      <th>title</th>\n",
       "      <th>collaboration</th>\n",
       "      <th>author</th>\n",
       "      <th>ENTRYTYPE</th>\n",
       "      <th>ID</th>\n",
       "      <th>pages</th>\n",
       "      <th>number</th>\n",
       "      <th>volume</th>\n",
       "      <th>journal</th>\n",
       "      <th>doi</th>\n",
       "      <th>note</th>\n",
       "      <th>editor</th>\n",
       "    </tr>\n",
       "  </thead>\n",
       "  <tbody>\n",
       "    <tr>\n",
       "      <th>0</th>\n",
       "      <td>2023</td>\n",
       "      <td>9</td>\n",
       "      <td>CERN-EP-2023-171</td>\n",
       "      <td>hep-ex</td>\n",
       "      <td>arXiv</td>\n",
       "      <td>2309.09318</td>\n",
       "      <td>{A precise measurement of the Z-boson double-d...</td>\n",
       "      <td>ATLAS</td>\n",
       "      <td>Aad, Georges and others</td>\n",
       "      <td>article</td>\n",
       "      <td>ATLAS:2023lsr</td>\n",
       "      <td>NaN</td>\n",
       "      <td>NaN</td>\n",
       "      <td>NaN</td>\n",
       "      <td>NaN</td>\n",
       "      <td>NaN</td>\n",
       "      <td>NaN</td>\n",
       "      <td>NaN</td>\n",
       "    </tr>\n",
       "    <tr>\n",
       "      <th>1</th>\n",
       "      <td>2023</td>\n",
       "      <td>9</td>\n",
       "      <td>CERN-EP-2023-128</td>\n",
       "      <td>hep-ex</td>\n",
       "      <td>arXiv</td>\n",
       "      <td>2309.05471</td>\n",
       "      <td>{Electron and photon energy calibration with t...</td>\n",
       "      <td>ATLAS</td>\n",
       "      <td>Aad, Georges and others</td>\n",
       "      <td>article</td>\n",
       "      <td>ATLAS:2023mnw</td>\n",
       "      <td>NaN</td>\n",
       "      <td>NaN</td>\n",
       "      <td>NaN</td>\n",
       "      <td>NaN</td>\n",
       "      <td>NaN</td>\n",
       "      <td>NaN</td>\n",
       "      <td>NaN</td>\n",
       "    </tr>\n",
       "  </tbody>\n",
       "</table>\n",
       "</div>"
      ],
      "text/plain": [
       "   year month      reportnumber primaryclass archiveprefix      eprint  \\\n",
       "0  2023     9  CERN-EP-2023-171       hep-ex         arXiv  2309.09318   \n",
       "1  2023     9  CERN-EP-2023-128       hep-ex         arXiv  2309.05471   \n",
       "\n",
       "                                               title collaboration  \\\n",
       "0  {A precise measurement of the Z-boson double-d...         ATLAS   \n",
       "1  {Electron and photon energy calibration with t...         ATLAS   \n",
       "\n",
       "                    author ENTRYTYPE             ID pages number volume  \\\n",
       "0  Aad, Georges and others   article  ATLAS:2023lsr   NaN    NaN    NaN   \n",
       "1  Aad, Georges and others   article  ATLAS:2023mnw   NaN    NaN    NaN   \n",
       "\n",
       "  journal  doi note editor  \n",
       "0     NaN  NaN  NaN    NaN  \n",
       "1     NaN  NaN  NaN    NaN  "
      ]
     },
     "execution_count": 3,
     "metadata": {},
     "output_type": "execute_result"
    }
   ],
   "source": [
    "bibtex.df.head(2)"
   ]
  },
  {
   "cell_type": "code",
   "execution_count": 4,
   "id": "30a474b3-377a-4d40-96ec-0bd117f969b9",
   "metadata": {
    "tags": []
   },
   "outputs": [
    {
     "data": {
      "text/plain": [
       "array([nan, 'Eur. Phys. J. C', 'JHEP', 'Phys. Rev. D', 'Phys. Rev. C',\n",
       "       'Phys. Lett. B', 'Phys. Rev. Lett.', 'JINST',\n",
       "       'Comput. Softw. Big Sci.', 'Nature Phys.', 'J. Phys. Conf. Ser.',\n",
       "       'PoS'], dtype=object)"
      ]
     },
     "execution_count": 4,
     "metadata": {},
     "output_type": "execute_result"
    }
   ],
   "source": [
    "bibtex.df.journal.unique()"
   ]
  },
  {
   "cell_type": "code",
   "execution_count": 5,
   "id": "2e9c45f9-f9f9-4155-8053-b8d31708030a",
   "metadata": {
    "tags": []
   },
   "outputs": [
    {
     "name": "stderr",
     "output_type": "stream",
     "text": [
      "\u001b[32m2023-09-20 07:46:39.348\u001b[0m | \u001b[1mINFO    \u001b[0m | \u001b[36minspire.reader\u001b[0m:\u001b[36mapply_qualis\u001b[0m:\u001b[36m30\u001b[0m - \u001b[1mApplying qualis from CAPES...\u001b[0m\n"
     ]
    }
   ],
   "source": [
    "bibtex.apply_qualis(qualis)"
   ]
  },
  {
   "cell_type": "code",
   "execution_count": 6,
   "id": "f8cb23c1-c8d7-455c-8514-02360b1a5c6f",
   "metadata": {
    "tags": []
   },
   "outputs": [
    {
     "name": "stderr",
     "output_type": "stream",
     "text": [
      "dumping...: 100%|████████████████████████████████████████████████████| 358/358 [00:00<00:00, 2715.07it/s]\n",
      "\u001b[32m2023-09-20 07:46:40.350\u001b[0m | \u001b[1mINFO    \u001b[0m | \u001b[36minspire.reader\u001b[0m:\u001b[36mdump\u001b[0m:\u001b[36m59\u001b[0m - \u001b[1mSaving bibtex to data/processed_INSPIRE_2023_09_19.bib\u001b[0m\n"
     ]
    }
   ],
   "source": [
    "bibtex.dump(\"data/processed_INSPIRE_2023_09_19.bib\")"
   ]
  },
  {
   "cell_type": "code",
   "execution_count": null,
   "id": "eaa80a04-8e2f-4430-8bfd-0454c9bcdbd7",
   "metadata": {},
   "outputs": [],
   "source": []
  }
 ],
 "metadata": {
  "kernelspec": {
   "display_name": "Python 3 (ipykernel)",
   "language": "python",
   "name": "python3"
  },
  "language_info": {
   "codemirror_mode": {
    "name": "ipython",
    "version": 3
   },
   "file_extension": ".py",
   "mimetype": "text/x-python",
   "name": "python",
   "nbconvert_exporter": "python",
   "pygments_lexer": "ipython3",
   "version": "3.8.10"
  }
 },
 "nbformat": 4,
 "nbformat_minor": 5
}
